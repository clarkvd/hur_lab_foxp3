{
 "cells": [
  {
   "cell_type": "code",
   "execution_count": 1,
   "id": "a2c3c1d8-b3f6-406a-abe7-857f017f7a1e",
   "metadata": {},
   "outputs": [],
   "source": [
    "import ast\n",
    "import re\n",
    "from collections import defaultdict\n",
    "\n",
    "import matplotlib.pyplot as plt\n",
    "import pandas as pd\n",
    "import pyranges as pr"
   ]
  },
  {
   "cell_type": "markdown",
   "id": "624279c1-949d-4f66-85e5-e1c55d7ac329",
   "metadata": {},
   "source": [
    "# HH and TnG peak frequency comparison"
   ]
  },
  {
   "cell_type": "markdown",
   "id": "5b090510-ced7-4442-a6d8-34f4b2a60f89",
   "metadata": {},
   "source": [
    "### Loading ChIP-seq peaks"
   ]
  },
  {
   "cell_type": "code",
   "execution_count": 2,
   "id": "d060f88e-ede4-4f1b-9c91-fcbed6784c23",
   "metadata": {},
   "outputs": [],
   "source": [
    "foxp3_peak_sequences = pd.read_csv(\"figure5_files/foxp3_chipseq_peak_sequences_with_peak_id.csv\")\n",
    "foxp3_chipseq_tng_loci = pd.read_csv(\"figure5_files/foxp3_chipseq_tng_loci.csv\")"
   ]
  },
  {
   "cell_type": "code",
   "execution_count": 3,
   "id": "bb8c041d-8bb6-456f-98cb-3a71d8fa3f3d",
   "metadata": {},
   "outputs": [
    {
     "data": {
      "text/html": [
       "<div>\n",
       "<style scoped>\n",
       "    .dataframe tbody tr th:only-of-type {\n",
       "        vertical-align: middle;\n",
       "    }\n",
       "\n",
       "    .dataframe tbody tr th {\n",
       "        vertical-align: top;\n",
       "    }\n",
       "\n",
       "    .dataframe thead th {\n",
       "        text-align: right;\n",
       "    }\n",
       "</style>\n",
       "<table border=\"1\" class=\"dataframe\">\n",
       "  <thead>\n",
       "    <tr style=\"text-align: right;\">\n",
       "      <th></th>\n",
       "      <th>chr</th>\n",
       "      <th>TnG_start</th>\n",
       "      <th>TnG_end</th>\n",
       "      <th>strand</th>\n",
       "    </tr>\n",
       "  </thead>\n",
       "  <tbody>\n",
       "    <tr>\n",
       "      <th>0</th>\n",
       "      <td>chr1</td>\n",
       "      <td>3241813</td>\n",
       "      <td>3241839</td>\n",
       "      <td>-</td>\n",
       "    </tr>\n",
       "    <tr>\n",
       "      <th>1</th>\n",
       "      <td>chr1</td>\n",
       "      <td>3768338</td>\n",
       "      <td>3768358</td>\n",
       "      <td>-</td>\n",
       "    </tr>\n",
       "    <tr>\n",
       "      <th>2</th>\n",
       "      <td>chr1</td>\n",
       "      <td>4084282</td>\n",
       "      <td>4084297</td>\n",
       "      <td>-</td>\n",
       "    </tr>\n",
       "    <tr>\n",
       "      <th>3</th>\n",
       "      <td>chr1</td>\n",
       "      <td>4084304</td>\n",
       "      <td>4084331</td>\n",
       "      <td>-</td>\n",
       "    </tr>\n",
       "    <tr>\n",
       "      <th>4</th>\n",
       "      <td>chr1</td>\n",
       "      <td>4949358</td>\n",
       "      <td>4949384</td>\n",
       "      <td>+</td>\n",
       "    </tr>\n",
       "  </tbody>\n",
       "</table>\n",
       "</div>"
      ],
      "text/plain": [
       "    chr  TnG_start  TnG_end strand\n",
       "0  chr1    3241813  3241839      -\n",
       "1  chr1    3768338  3768358      -\n",
       "2  chr1    4084282  4084297      -\n",
       "3  chr1    4084304  4084331      -\n",
       "4  chr1    4949358  4949384      +"
      ]
     },
     "execution_count": 3,
     "metadata": {},
     "output_type": "execute_result"
    }
   ],
   "source": [
    "foxp3_chipseq_tng_loci.head()"
   ]
  },
  {
   "cell_type": "markdown",
   "id": "f6ac31d3-8ef0-4398-ab8c-c972e4900c22",
   "metadata": {},
   "source": [
    "### Assign unique peak ID to each ChIP-seq peak"
   ]
  },
  {
   "cell_type": "code",
   "execution_count": 4,
   "id": "b2dd42c4-7f2f-40a6-9cb3-f60656c445b5",
   "metadata": {},
   "outputs": [],
   "source": [
    "def assign_matching_chip_peaks(peak_df, tng_df):\n",
    "    \"\"\"\n",
    "    Matches ChIP/ATAC peaks to TnG loci using overlap and adds list of peak IDs to each TnG row.\n",
    "    \"\"\"\n",
    "    peak_df = peak_df.copy()\n",
    "    peak_df['chr'] = 'chr' + peak_df['chr'].astype(str)\n",
    "\n",
    "    chip_pr = pr.PyRanges(peak_df.rename(columns={\"chr\": \"Chromosome\", \"start\": \"Start\", \"end\": \"End\"}))\n",
    "    tng_pr = pr.PyRanges(tng_df.rename(columns={\"chr\": \"Chromosome\", \"TnG_start\": \"Start\", \"TnG_end\": \"End\"}))\n",
    "\n",
    "    overlap = tng_pr.join(chip_pr).df\n",
    "\n",
    "    # Map overlapping peaks to TnG loci\n",
    "    peak_map = defaultdict(list)\n",
    "    for _, row in overlap.iterrows():\n",
    "        key = (row['Chromosome'], row['Start'], row['End'])\n",
    "        peak_map[key].append(row['peak'])\n",
    "\n",
    "    def get_peaks(row):\n",
    "        key = (row['chr'], row['TnG_start'], row['TnG_end'])\n",
    "        return peak_map.get(key, [])\n",
    "\n",
    "    tng_df = tng_df.copy()\n",
    "    tng_df['peaks'] = tng_df.apply(get_peaks, axis=1)\n",
    "    return tng_df\n"
   ]
  },
  {
   "cell_type": "code",
   "execution_count": 5,
   "id": "644e6c48-81df-4a06-99bb-1ca1b94ea770",
   "metadata": {},
   "outputs": [],
   "source": [
    "# Run ChIP-seq code, load ATAC (would take too long)\n",
    "foxp3_chipseq_tng_loci = assign_matching_chip_peaks(foxp3_peak_sequences, foxp3_chipseq_tng_loci)\n",
    "atac_tng_loci = pd.read_csv('figure5_files/atac_tng_loci.csv')"
   ]
  },
  {
   "cell_type": "code",
   "execution_count": 6,
   "id": "4e444040-2628-48fe-8a6c-cff270e5048a",
   "metadata": {},
   "outputs": [
    {
     "data": {
      "text/html": [
       "<div>\n",
       "<style scoped>\n",
       "    .dataframe tbody tr th:only-of-type {\n",
       "        vertical-align: middle;\n",
       "    }\n",
       "\n",
       "    .dataframe tbody tr th {\n",
       "        vertical-align: top;\n",
       "    }\n",
       "\n",
       "    .dataframe thead th {\n",
       "        text-align: right;\n",
       "    }\n",
       "</style>\n",
       "<table border=\"1\" class=\"dataframe\">\n",
       "  <thead>\n",
       "    <tr style=\"text-align: right;\">\n",
       "      <th></th>\n",
       "      <th>chr</th>\n",
       "      <th>TnG_start</th>\n",
       "      <th>TnG_end</th>\n",
       "      <th>strand</th>\n",
       "      <th>peaks</th>\n",
       "    </tr>\n",
       "  </thead>\n",
       "  <tbody>\n",
       "    <tr>\n",
       "      <th>0</th>\n",
       "      <td>chr1</td>\n",
       "      <td>3241813</td>\n",
       "      <td>3241839</td>\n",
       "      <td>-</td>\n",
       "      <td>[0]</td>\n",
       "    </tr>\n",
       "    <tr>\n",
       "      <th>1</th>\n",
       "      <td>chr1</td>\n",
       "      <td>3768338</td>\n",
       "      <td>3768358</td>\n",
       "      <td>-</td>\n",
       "      <td>[2]</td>\n",
       "    </tr>\n",
       "    <tr>\n",
       "      <th>2</th>\n",
       "      <td>chr1</td>\n",
       "      <td>4084282</td>\n",
       "      <td>4084297</td>\n",
       "      <td>-</td>\n",
       "      <td>[3]</td>\n",
       "    </tr>\n",
       "    <tr>\n",
       "      <th>3</th>\n",
       "      <td>chr1</td>\n",
       "      <td>4084304</td>\n",
       "      <td>4084331</td>\n",
       "      <td>-</td>\n",
       "      <td>[3]</td>\n",
       "    </tr>\n",
       "    <tr>\n",
       "      <th>4</th>\n",
       "      <td>chr1</td>\n",
       "      <td>4949358</td>\n",
       "      <td>4949384</td>\n",
       "      <td>+</td>\n",
       "      <td>[8]</td>\n",
       "    </tr>\n",
       "  </tbody>\n",
       "</table>\n",
       "</div>"
      ],
      "text/plain": [
       "    chr  TnG_start  TnG_end strand peaks\n",
       "0  chr1    3241813  3241839      -   [0]\n",
       "1  chr1    3768338  3768358      -   [2]\n",
       "2  chr1    4084282  4084297      -   [3]\n",
       "3  chr1    4084304  4084331      -   [3]\n",
       "4  chr1    4949358  4949384      +   [8]"
      ]
     },
     "execution_count": 6,
     "metadata": {},
     "output_type": "execute_result"
    }
   ],
   "source": [
    "foxp3_chipseq_tng_loci.head()"
   ]
  },
  {
   "cell_type": "code",
   "execution_count": 7,
   "id": "29ce22c1-042c-4481-8da3-5a106d29d17a",
   "metadata": {},
   "outputs": [
    {
     "name": "stdout",
     "output_type": "stream",
     "text": [
      "Number of unique FoxP3 ChIP peaks: 9744\n",
      "Number of unique ATAC peaks: 87926\n"
     ]
    }
   ],
   "source": [
    "def count_unique_chip_peaks(df, column='peaks'):\n",
    "    \"\"\"\n",
    "    Counts the number of unique peak IDs from a column of lists.\n",
    "    \"\"\"\n",
    "    all_peaks = df[column].explode().dropna()\n",
    "    return len(set(all_peaks))\n",
    "\n",
    "print(f\"Number of unique FoxP3 ChIP peaks: {count_unique_chip_peaks(foxp3_chipseq_tng_loci)}\")\n",
    "print(f\"Number of unique ATAC peaks: {count_unique_chip_peaks(atac_tng_loci)}\")"
   ]
  },
  {
   "cell_type": "markdown",
   "id": "51d6460e-a5dc-4fe1-89f3-ffc406a20dee",
   "metadata": {},
   "source": [
    "### Example of building reg-ex motifs and searching for them"
   ]
  },
  {
   "cell_type": "code",
   "execution_count": 8,
   "id": "e85ad155-d97d-463d-a963-3de89a51e920",
   "metadata": {},
   "outputs": [],
   "source": [
    "# Top 10 enriched motif sequences in forward and reverse-complement orientation\n",
    "motifs_forward = ['NNAAACA', 'NAAACAN', 'NNCAACA', 'NCAACAN', 'ATGCGNN', 'GATGCNN', 'ATGCANN', 'AATGCNN', 'NATGCAN', 'ATGCNNC']\n",
    "motifs_reverse = ['TGTTTNN', 'NTGTTTN', 'TGTTGNN', 'NTGTTGN', 'NNCGCAT', 'NNGCATC', 'NNTGCAT', 'NNGCATT', 'NTGCATN', 'GNNGCAT']\n",
    "\n",
    "motif_combos_TH = [(f1, f2) for f1 in motifs_forward for f2 in motifs_forward]\n",
    "motif_combos_HT = [(r1, r2) for r1 in motifs_reverse for r2 in motifs_reverse]\n",
    "\n",
    "# Pairwise motif combinations combinations for Head-to-Head (H-H) orientation\n",
    "motif_combos_HH = [(r, f) for r in motifs_reverse for f in motifs_forward]"
   ]
  },
  {
   "cell_type": "code",
   "execution_count": 9,
   "id": "e3e82df7-bdeb-4f91-ba9c-c309cdf66e54",
   "metadata": {},
   "outputs": [],
   "source": [
    "# Convert peak DataFrame into a list of tuples: (chrom, start, end, sequence)\n",
    "chipseq_sequences = list(foxp3_peak_sequences.itertuples(index=False, name=None))\n",
    "\n",
    "def generate_regex_motifs(motif_pairs):\n",
    "    \"\"\"\n",
    "    Convert motif pairs into regex patterns with a fixed 4bp spacer between motifs.\n",
    "    \"\"\"\n",
    "    return [\n",
    "        f\"{f.replace('N', '[ATGC]')}[ATGC]{{4}}{r.replace('N', '[ATGC]')}\"\n",
    "        for f, r in motif_pairs\n",
    "    ]\n",
    "\n",
    "def build_motif_regex_dict():\n",
    "    \"\"\"\n",
    "    Generate a dictionary of regex motif patterns by orientation:\n",
    "    \"\"\"\n",
    "    return {\n",
    "        'HH': {i: p for i, p in enumerate(generate_regex_motifs(motif_combos_HH))},\n",
    "    }\n",
    "\n",
    "# Build all regex motif patterns\n",
    "motif_regex_by_orientation = build_motif_regex_dict()"
   ]
  },
  {
   "cell_type": "code",
   "execution_count": 10,
   "id": "f636adf5-f03c-4376-acf0-2cadf1fa2108",
   "metadata": {},
   "outputs": [
    {
     "name": "stdout",
     "output_type": "stream",
     "text": [
      "Examples from orientation 'HH':\n",
      "  0: TGTTT[ATGC][ATGC][ATGC]{4}[ATGC][ATGC]AAACA\n",
      "  1: TGTTT[ATGC][ATGC][ATGC]{4}[ATGC]AAACA[ATGC]\n",
      "  2: TGTTT[ATGC][ATGC][ATGC]{4}[ATGC][ATGC]CAACA\n",
      "\n"
     ]
    }
   ],
   "source": [
    "# Display 3 example regex motifs from each orientation\n",
    "for orientation, motifs in motif_regex_by_orientation.items():\n",
    "    print(f\"Examples from orientation '{orientation}':\")\n",
    "    for i in list(motifs.keys())[:3]:\n",
    "        print(f\"  {i}: {motifs[i]}\")\n",
    "    print()"
   ]
  },
  {
   "cell_type": "code",
   "execution_count": 11,
   "id": "a21ee71b-4a82-41d1-9c7a-43cf03119245",
   "metadata": {},
   "outputs": [
    {
     "data": {
      "text/html": [
       "<div>\n",
       "<style scoped>\n",
       "    .dataframe tbody tr th:only-of-type {\n",
       "        vertical-align: middle;\n",
       "    }\n",
       "\n",
       "    .dataframe tbody tr th {\n",
       "        vertical-align: top;\n",
       "    }\n",
       "\n",
       "    .dataframe thead th {\n",
       "        text-align: right;\n",
       "    }\n",
       "</style>\n",
       "<table border=\"1\" class=\"dataframe\">\n",
       "  <thead>\n",
       "    <tr style=\"text-align: right;\">\n",
       "      <th></th>\n",
       "      <th>chr</th>\n",
       "      <th>start</th>\n",
       "      <th>end</th>\n",
       "      <th>peak</th>\n",
       "    </tr>\n",
       "  </thead>\n",
       "  <tbody>\n",
       "    <tr>\n",
       "      <th>0</th>\n",
       "      <td>1</td>\n",
       "      <td>16029469</td>\n",
       "      <td>16029488</td>\n",
       "      <td>53</td>\n",
       "    </tr>\n",
       "    <tr>\n",
       "      <th>1</th>\n",
       "      <td>1</td>\n",
       "      <td>33883181</td>\n",
       "      <td>33883200</td>\n",
       "      <td>103</td>\n",
       "    </tr>\n",
       "    <tr>\n",
       "      <th>2</th>\n",
       "      <td>1</td>\n",
       "      <td>36267408</td>\n",
       "      <td>36267427</td>\n",
       "      <td>122</td>\n",
       "    </tr>\n",
       "    <tr>\n",
       "      <th>3</th>\n",
       "      <td>1</td>\n",
       "      <td>40618125</td>\n",
       "      <td>40618144</td>\n",
       "      <td>203</td>\n",
       "    </tr>\n",
       "    <tr>\n",
       "      <th>4</th>\n",
       "      <td>1</td>\n",
       "      <td>52052815</td>\n",
       "      <td>52052834</td>\n",
       "      <td>270</td>\n",
       "    </tr>\n",
       "  </tbody>\n",
       "</table>\n",
       "</div>"
      ],
      "text/plain": [
       "  chr     start       end  peak\n",
       "0   1  16029469  16029488    53\n",
       "1   1  33883181  33883200   103\n",
       "2   1  36267408  36267427   122\n",
       "3   1  40618125  40618144   203\n",
       "4   1  52052815  52052834   270"
      ]
     },
     "execution_count": 11,
     "metadata": {},
     "output_type": "execute_result"
    }
   ],
   "source": [
    "def match_example_pattern(sequences, pattern_label, pattern):\n",
    "    matches_list = []\n",
    "    regex = re.compile(pattern)\n",
    "\n",
    "    for chrom, peak_start, peak_end, sequence, peak in sequences:\n",
    "        if sequence == \"Sequence not found\" or pd.isna(sequence):\n",
    "            continue\n",
    "        for match in regex.finditer(sequence):\n",
    "            match_start = peak_start + match.start() - 1 # minus 1 for indexing\n",
    "            match_end = peak_start + match.end()\n",
    "            matches_list.append((chrom, match_start, match_end, peak))\n",
    "\n",
    "    df_matches = pd.DataFrame(matches_list, columns=['chr', 'start', 'end', 'peak'])\n",
    "    return df_matches\n",
    "\n",
    "# Example usage\n",
    "example_label = \"Example_Motif\"\n",
    "example_pattern = \"TGTTT[ATGC]{2}[ATGC]{4}[ATGC]{2}AAACA\"\n",
    "df_example_matches = match_example_pattern(chipseq_sequences, example_label, example_pattern)\n",
    "\n",
    "# Print top 5 matches\n",
    "df_example_matches.head()"
   ]
  },
  {
   "cell_type": "markdown",
   "id": "b554fd07-582f-4810-9aa0-1c73871c281b",
   "metadata": {},
   "source": [
    "### Load ChIP-seq and ATAC-seq peaks with their IDs"
   ]
  },
  {
   "cell_type": "code",
   "execution_count": 12,
   "id": "a5b42f21-42f6-48fc-8133-4c0e59169c4c",
   "metadata": {},
   "outputs": [
    {
     "data": {
      "text/html": [
       "<div>\n",
       "<style scoped>\n",
       "    .dataframe tbody tr th:only-of-type {\n",
       "        vertical-align: middle;\n",
       "    }\n",
       "\n",
       "    .dataframe tbody tr th {\n",
       "        vertical-align: top;\n",
       "    }\n",
       "\n",
       "    .dataframe thead th {\n",
       "        text-align: right;\n",
       "    }\n",
       "</style>\n",
       "<table border=\"1\" class=\"dataframe\">\n",
       "  <thead>\n",
       "    <tr style=\"text-align: right;\">\n",
       "      <th></th>\n",
       "      <th>chr</th>\n",
       "      <th>start</th>\n",
       "      <th>end</th>\n",
       "      <th>peaks</th>\n",
       "    </tr>\n",
       "  </thead>\n",
       "  <tbody>\n",
       "    <tr>\n",
       "      <th>0</th>\n",
       "      <td>chr1</td>\n",
       "      <td>6417656</td>\n",
       "      <td>6417674</td>\n",
       "      <td>[17]</td>\n",
       "    </tr>\n",
       "    <tr>\n",
       "      <th>1</th>\n",
       "      <td>chr1</td>\n",
       "      <td>9798723</td>\n",
       "      <td>9798741</td>\n",
       "      <td>[27]</td>\n",
       "    </tr>\n",
       "    <tr>\n",
       "      <th>2</th>\n",
       "      <td>chr1</td>\n",
       "      <td>13371997</td>\n",
       "      <td>13372015</td>\n",
       "      <td>[40]</td>\n",
       "    </tr>\n",
       "    <tr>\n",
       "      <th>3</th>\n",
       "      <td>chr1</td>\n",
       "      <td>13593378</td>\n",
       "      <td>13593397</td>\n",
       "      <td>[44]</td>\n",
       "    </tr>\n",
       "    <tr>\n",
       "      <th>4</th>\n",
       "      <td>chr1</td>\n",
       "      <td>16029470</td>\n",
       "      <td>16029488</td>\n",
       "      <td>[53]</td>\n",
       "    </tr>\n",
       "  </tbody>\n",
       "</table>\n",
       "</div>"
      ],
      "text/plain": [
       "    chr     start       end peaks\n",
       "0  chr1   6417656   6417674  [17]\n",
       "1  chr1   9798723   9798741  [27]\n",
       "2  chr1  13371997  13372015  [40]\n",
       "3  chr1  13593378  13593397  [44]\n",
       "4  chr1  16029470  16029488  [53]"
      ]
     },
     "execution_count": 12,
     "metadata": {},
     "output_type": "execute_result"
    }
   ],
   "source": [
    "# Load full set of motif-pair loci in Head-to-Head (H-H) orientation for FoxP3 ChIP-seq\n",
    "chipseq_peaks_hh = pd.read_csv(\"figure5_files/head_to_head_foxp3_chipseq.csv\")\n",
    "chipseq_peaks_hh.head()"
   ]
  },
  {
   "cell_type": "code",
   "execution_count": 13,
   "id": "5f3dd584-03a8-437d-8266-d951ea650700",
   "metadata": {},
   "outputs": [],
   "source": [
    "# Convert peak strings to lists\n",
    "chipseq_peaks_hh['peaks'] = chipseq_peaks_hh['peaks'].apply(ast.literal_eval)\n",
    "\n",
    "# Get set of all FoxP3 peaks that intersect TnG loci\n",
    "tng_peak_set_foxp3 = set().union(*foxp3_chipseq_tng_loci['peaks'])\n",
    "\n",
    "# Add boolean flag for overlap with TnG regions\n",
    "chipseq_peaks_hh['overlaps_with_tng'] = chipseq_peaks_hh['peaks'].apply(\n",
    "    lambda peak_list: any(p in tng_peak_set_foxp3 for p in peak_list)\n",
    ")"
   ]
  },
  {
   "cell_type": "code",
   "execution_count": 14,
   "id": "3ef5f02d-261a-4b06-9905-a7aa48574089",
   "metadata": {},
   "outputs": [
    {
     "data": {
      "text/html": [
       "<div>\n",
       "<style scoped>\n",
       "    .dataframe tbody tr th:only-of-type {\n",
       "        vertical-align: middle;\n",
       "    }\n",
       "\n",
       "    .dataframe tbody tr th {\n",
       "        vertical-align: top;\n",
       "    }\n",
       "\n",
       "    .dataframe thead th {\n",
       "        text-align: right;\n",
       "    }\n",
       "</style>\n",
       "<table border=\"1\" class=\"dataframe\">\n",
       "  <thead>\n",
       "    <tr style=\"text-align: right;\">\n",
       "      <th></th>\n",
       "      <th>chr</th>\n",
       "      <th>start</th>\n",
       "      <th>end</th>\n",
       "      <th>peaks</th>\n",
       "    </tr>\n",
       "  </thead>\n",
       "  <tbody>\n",
       "    <tr>\n",
       "      <th>0</th>\n",
       "      <td>chr1</td>\n",
       "      <td>4401780</td>\n",
       "      <td>4401798</td>\n",
       "      <td>[47]</td>\n",
       "    </tr>\n",
       "    <tr>\n",
       "      <th>1</th>\n",
       "      <td>chr1</td>\n",
       "      <td>4432779</td>\n",
       "      <td>4432798</td>\n",
       "      <td>[62]</td>\n",
       "    </tr>\n",
       "    <tr>\n",
       "      <th>2</th>\n",
       "      <td>chr1</td>\n",
       "      <td>4527520</td>\n",
       "      <td>4527538</td>\n",
       "      <td>[88]</td>\n",
       "    </tr>\n",
       "    <tr>\n",
       "      <th>3</th>\n",
       "      <td>chr1</td>\n",
       "      <td>5101085</td>\n",
       "      <td>5101103</td>\n",
       "      <td>[205]</td>\n",
       "    </tr>\n",
       "    <tr>\n",
       "      <th>4</th>\n",
       "      <td>chr1</td>\n",
       "      <td>6461642</td>\n",
       "      <td>6461660</td>\n",
       "      <td>[306]</td>\n",
       "    </tr>\n",
       "  </tbody>\n",
       "</table>\n",
       "</div>"
      ],
      "text/plain": [
       "    chr    start      end  peaks\n",
       "0  chr1  4401780  4401798   [47]\n",
       "1  chr1  4432779  4432798   [62]\n",
       "2  chr1  4527520  4527538   [88]\n",
       "3  chr1  5101085  5101103  [205]\n",
       "4  chr1  6461642  6461660  [306]"
      ]
     },
     "execution_count": 14,
     "metadata": {},
     "output_type": "execute_result"
    }
   ],
   "source": [
    "# Load full set of motif-pair loci in H-H orientation for ATAC-seq\n",
    "atac_peaks_hh = pd.read_csv(\"figure5_files/head_to_head_atac.csv\")\n",
    "atac_peaks_hh.head()"
   ]
  },
  {
   "cell_type": "markdown",
   "id": "d05931ad-2345-4d91-81c6-aed4c7970256",
   "metadata": {},
   "source": [
    "### Identify which peaks contain both a HH and TnG"
   ]
  },
  {
   "cell_type": "code",
   "execution_count": 15,
   "id": "e2258395-06b1-4ebe-b314-64f8d665c6f5",
   "metadata": {},
   "outputs": [],
   "source": [
    "# Convert stringified lists to proper Python lists\n",
    "atac_peaks_hh['peaks'] = atac_peaks_hh['peaks'].apply(\n",
    "    lambda x: ast.literal_eval(x) if isinstance(x, str) else x\n",
    ")\n",
    "atac_tng_loci['peaks'] = atac_tng_loci['peaks'].apply(\n",
    "    lambda x: ast.literal_eval(x) if isinstance(x, str) else x\n",
    ")\n",
    "\n",
    "# Get set of ATAC peaks that intersect TnG loci\n",
    "tng_peak_set_atac = set().union(*atac_tng_loci['peaks'])\n",
    "\n",
    "# Add boolean flag for overlap with TnG regions\n",
    "atac_peaks_hh['overlaps_with_tng'] = atac_peaks_hh['peaks'].apply(\n",
    "    lambda peak_list: any(p in tng_peak_set_atac for p in peak_list)\n",
    ")"
   ]
  },
  {
   "cell_type": "code",
   "execution_count": 16,
   "id": "7eb7456b-e933-40e3-830f-688622ed9897",
   "metadata": {},
   "outputs": [
    {
     "name": "stdout",
     "output_type": "stream",
     "text": [
      "Number of unique H-H FoxP3 ChIP-seq peaks: 1454\n",
      "Number of unique H-H ATAC-seq peaks: 10143\n"
     ]
    }
   ],
   "source": [
    "# Count all unique ChIP-seq peaks found in H-H motif-pair matches\n",
    "print(f\"Number of unique H-H FoxP3 ChIP-seq peaks: {count_unique_chip_peaks(chipseq_peaks_hh)}\")\n",
    "\n",
    "# Count all unique ATAC-seq peaks found in H-H motif-pair matches\n",
    "print(f\"Number of unique H-H ATAC-seq peaks: {count_unique_chip_peaks(atac_peaks_hh)}\")"
   ]
  },
  {
   "cell_type": "code",
   "execution_count": 17,
   "id": "49f7f75f-dfe5-4bb7-a24d-e1472f2fa230",
   "metadata": {},
   "outputs": [
    {
     "name": "stdout",
     "output_type": "stream",
     "text": [
      "Number of unique FoxP3 ChIP-seq peaks with H-H + TnG overlap: 1200\n",
      "Number of unique ATAC peaks with H-H + TnG overlap: 2604\n"
     ]
    }
   ],
   "source": [
    "# Print subset the ChIP-seq H-H peaks that overlap with TnG loci\n",
    "chipseq_peaks_hh_tng = chipseq_peaks_hh[chipseq_peaks_hh['overlaps_with_tng']].copy()\n",
    "print(f\"Number of unique FoxP3 ChIP-seq peaks with H-H + TnG overlap: {count_unique_chip_peaks(chipseq_peaks_hh_tng)}\")\n",
    "\n",
    "# Print subset ATAC-seq H-H peaks that overlap TnG, and count unique peaks\n",
    "atac_peaks_hh_tng = atac_peaks_hh[atac_peaks_hh['overlaps_with_tng']].copy()\n",
    "print(f\"Number of unique ATAC peaks with H-H + TnG overlap: {count_unique_chip_peaks(atac_peaks_hh_tng)}\")"
   ]
  },
  {
   "cell_type": "markdown",
   "id": "141e2504-e0dc-4a05-8d8e-81189d1bd918",
   "metadata": {},
   "source": [
    "# HH and TnG distance comparison"
   ]
  },
  {
   "cell_type": "code",
   "execution_count": 18,
   "id": "17005323-1892-4930-841d-9ab0e0d85343",
   "metadata": {},
   "outputs": [],
   "source": [
    "# Load distance-to-nearest TnG data for H-H motif pairs\n",
    "foxp3_hh_tng_distances = pd.read_csv('figure5_files/hh_tng_distance_chip.csv')\n",
    "atac_hh_tng_distances = pd.read_csv('figure5_files/hh_tng_distance_fp3_free_ocr.csv')"
   ]
  },
  {
   "cell_type": "code",
   "execution_count": 19,
   "id": "49b82149-5979-408d-b52a-c85b1331fc8f",
   "metadata": {},
   "outputs": [
    {
     "data": {
      "text/html": [
       "<div>\n",
       "<style scoped>\n",
       "    .dataframe tbody tr th:only-of-type {\n",
       "        vertical-align: middle;\n",
       "    }\n",
       "\n",
       "    .dataframe tbody tr th {\n",
       "        vertical-align: top;\n",
       "    }\n",
       "\n",
       "    .dataframe thead th {\n",
       "        text-align: right;\n",
       "    }\n",
       "</style>\n",
       "<table border=\"1\" class=\"dataframe\">\n",
       "  <thead>\n",
       "    <tr style=\"text-align: right;\">\n",
       "      <th></th>\n",
       "      <th>chr</th>\n",
       "      <th>h_h_start</th>\n",
       "      <th>h_h_end</th>\n",
       "      <th>closest_TnG_start</th>\n",
       "      <th>closest_TnG_end</th>\n",
       "      <th>tng_alignment</th>\n",
       "      <th>distance_to_closest_TnG</th>\n",
       "    </tr>\n",
       "  </thead>\n",
       "  <tbody>\n",
       "    <tr>\n",
       "      <th>0</th>\n",
       "      <td>chr1</td>\n",
       "      <td>6417656</td>\n",
       "      <td>6417674</td>\n",
       "      <td>6417733</td>\n",
       "      <td>6417756</td>\n",
       "      <td>1</td>\n",
       "      <td>59</td>\n",
       "    </tr>\n",
       "    <tr>\n",
       "      <th>1</th>\n",
       "      <td>chr1</td>\n",
       "      <td>9798723</td>\n",
       "      <td>9798741</td>\n",
       "      <td>9798859</td>\n",
       "      <td>9798902</td>\n",
       "      <td>1</td>\n",
       "      <td>118</td>\n",
       "    </tr>\n",
       "    <tr>\n",
       "      <th>2</th>\n",
       "      <td>chr1</td>\n",
       "      <td>13371997</td>\n",
       "      <td>13372015</td>\n",
       "      <td>13371878</td>\n",
       "      <td>13371920</td>\n",
       "      <td>0</td>\n",
       "      <td>-77</td>\n",
       "    </tr>\n",
       "    <tr>\n",
       "      <th>3</th>\n",
       "      <td>chr1</td>\n",
       "      <td>13593378</td>\n",
       "      <td>13593397</td>\n",
       "      <td>13593430</td>\n",
       "      <td>13593453</td>\n",
       "      <td>0</td>\n",
       "      <td>33</td>\n",
       "    </tr>\n",
       "    <tr>\n",
       "      <th>4</th>\n",
       "      <td>chr1</td>\n",
       "      <td>16029470</td>\n",
       "      <td>16029488</td>\n",
       "      <td>16029459</td>\n",
       "      <td>16029505</td>\n",
       "      <td>1</td>\n",
       "      <td>0</td>\n",
       "    </tr>\n",
       "  </tbody>\n",
       "</table>\n",
       "</div>"
      ],
      "text/plain": [
       "    chr  h_h_start   h_h_end  closest_TnG_start  closest_TnG_end  \\\n",
       "0  chr1    6417656   6417674            6417733          6417756   \n",
       "1  chr1    9798723   9798741            9798859          9798902   \n",
       "2  chr1   13371997  13372015           13371878         13371920   \n",
       "3  chr1   13593378  13593397           13593430         13593453   \n",
       "4  chr1   16029470  16029488           16029459         16029505   \n",
       "\n",
       "   tng_alignment  distance_to_closest_TnG  \n",
       "0              1                       59  \n",
       "1              1                      118  \n",
       "2              0                      -77  \n",
       "3              0                       33  \n",
       "4              1                        0  "
      ]
     },
     "execution_count": 19,
     "metadata": {},
     "output_type": "execute_result"
    }
   ],
   "source": [
    "foxp3_hh_tng_distances.head()"
   ]
  },
  {
   "cell_type": "code",
   "execution_count": 20,
   "id": "b7aaedb2-d0b2-4b39-a4c2-ba8748996761",
   "metadata": {},
   "outputs": [],
   "source": [
    "# Keep only motif pairs that overlap exactly with a TnG repeat\n",
    "foxp3_hh_overlapping = foxp3_hh_tng_distances[foxp3_hh_tng_distances['distance_to_closest_TnG'] == 0]\n",
    "atac_hh_overlapping = atac_hh_tng_distances[atac_hh_tng_distances['distance_to_closest_TnG'] == 0]"
   ]
  },
  {
   "cell_type": "code",
   "execution_count": 21,
   "id": "0b40fa57-5b46-4e8f-99f1-e8a97b99d6f1",
   "metadata": {},
   "outputs": [
    {
     "data": {
      "text/html": [
       "<div>\n",
       "<style scoped>\n",
       "    .dataframe tbody tr th:only-of-type {\n",
       "        vertical-align: middle;\n",
       "    }\n",
       "\n",
       "    .dataframe tbody tr th {\n",
       "        vertical-align: top;\n",
       "    }\n",
       "\n",
       "    .dataframe thead th {\n",
       "        text-align: right;\n",
       "    }\n",
       "</style>\n",
       "<table border=\"1\" class=\"dataframe\">\n",
       "  <thead>\n",
       "    <tr style=\"text-align: right;\">\n",
       "      <th></th>\n",
       "      <th>chr</th>\n",
       "      <th>h_h_start</th>\n",
       "      <th>h_h_end</th>\n",
       "      <th>closest_TnG_start</th>\n",
       "      <th>closest_TnG_end</th>\n",
       "      <th>tng_alignment</th>\n",
       "      <th>distance_to_closest_TnG</th>\n",
       "    </tr>\n",
       "  </thead>\n",
       "  <tbody>\n",
       "    <tr>\n",
       "      <th>4</th>\n",
       "      <td>chr1</td>\n",
       "      <td>16029470</td>\n",
       "      <td>16029488</td>\n",
       "      <td>16029459</td>\n",
       "      <td>16029505</td>\n",
       "      <td>1</td>\n",
       "      <td>0</td>\n",
       "    </tr>\n",
       "    <tr>\n",
       "      <th>6</th>\n",
       "      <td>chr1</td>\n",
       "      <td>33883182</td>\n",
       "      <td>33883200</td>\n",
       "      <td>33883168</td>\n",
       "      <td>33883188</td>\n",
       "      <td>1</td>\n",
       "      <td>0</td>\n",
       "    </tr>\n",
       "    <tr>\n",
       "      <th>7</th>\n",
       "      <td>chr1</td>\n",
       "      <td>34545778</td>\n",
       "      <td>34545796</td>\n",
       "      <td>34545766</td>\n",
       "      <td>34545782</td>\n",
       "      <td>1</td>\n",
       "      <td>0</td>\n",
       "    </tr>\n",
       "    <tr>\n",
       "      <th>9</th>\n",
       "      <td>chr1</td>\n",
       "      <td>36267409</td>\n",
       "      <td>36267427</td>\n",
       "      <td>36267385</td>\n",
       "      <td>36267424</td>\n",
       "      <td>1</td>\n",
       "      <td>0</td>\n",
       "    </tr>\n",
       "    <tr>\n",
       "      <th>15</th>\n",
       "      <td>chr1</td>\n",
       "      <td>39714299</td>\n",
       "      <td>39714318</td>\n",
       "      <td>39714285</td>\n",
       "      <td>39714324</td>\n",
       "      <td>1</td>\n",
       "      <td>0</td>\n",
       "    </tr>\n",
       "  </tbody>\n",
       "</table>\n",
       "</div>"
      ],
      "text/plain": [
       "     chr  h_h_start   h_h_end  closest_TnG_start  closest_TnG_end  \\\n",
       "4   chr1   16029470  16029488           16029459         16029505   \n",
       "6   chr1   33883182  33883200           33883168         33883188   \n",
       "7   chr1   34545778  34545796           34545766         34545782   \n",
       "9   chr1   36267409  36267427           36267385         36267424   \n",
       "15  chr1   39714299  39714318           39714285         39714324   \n",
       "\n",
       "    tng_alignment  distance_to_closest_TnG  \n",
       "4               1                        0  \n",
       "6               1                        0  \n",
       "7               1                        0  \n",
       "9               1                        0  \n",
       "15              1                        0  "
      ]
     },
     "execution_count": 21,
     "metadata": {},
     "output_type": "execute_result"
    }
   ],
   "source": [
    "foxp3_hh_overlapping.head()"
   ]
  },
  {
   "cell_type": "code",
   "execution_count": 22,
   "id": "d2f826a1-6eda-4abb-bc7e-c3ab980fd920",
   "metadata": {},
   "outputs": [],
   "source": [
    "# Separate motif pairs by whether their orientation matches TnG compatibility\n",
    "foxp3_hh_tng_compatible = foxp3_hh_overlapping[foxp3_hh_overlapping['tng_alignment'] == 1]\n",
    "foxp3_hh_tng_noncompatible = foxp3_hh_overlapping[foxp3_hh_overlapping['tng_alignment'] != 1]\n",
    "\n",
    "atac_hh_tng_compatible = atac_hh_overlapping[atac_hh_overlapping['tng_alignment'] == 1]\n",
    "atac_hh_tng_noncompatible = atac_hh_overlapping[atac_hh_overlapping['tng_alignment'] != 1]"
   ]
  },
  {
   "cell_type": "code",
   "execution_count": 23,
   "id": "268c38cd-ff5b-419d-a5cb-ae63610334a2",
   "metadata": {},
   "outputs": [
    {
     "data": {
      "image/png": "[encoded data removed]",
      "text/plain": [
       "<Figure size 1400x1000 with 4 Axes>"
      ]
     },
     "metadata": {},
     "output_type": "display_data"
    }
   ],
   "source": [
    "# Plotting layout: 2 rows (ChIP vs ATAC), 2 cols (compatible vs non-compatible)\n",
    "fig, axes = plt.subplots(2, 2, figsize=(14, 10), sharex=True, sharey=True)\n",
    "\n",
    "# Histogram settings\n",
    "x_min, x_max = -20, 20\n",
    "bins = 100\n",
    "range_vals = (x_min, x_max)\n",
    "\n",
    "def plot_percentage_histogram(ax, data, total, title):\n",
    "    \"\"\"\n",
    "    Plot a histogram of motif-to-TnG distances as percentage of total motifs.\n",
    "    \"\"\"\n",
    "    ax.hist(\n",
    "        data['distance_to_closest_TnG'],\n",
    "        bins=bins,\n",
    "        range=range_vals,\n",
    "        weights=[100 / total] * len(data),\n",
    "        edgecolor='black',\n",
    "        alpha=0.7\n",
    "    )\n",
    "    ax.set_title(title)\n",
    "    ax.set_xlabel('Gap Size (nt)')\n",
    "    ax.set_ylabel('Frequency')\n",
    "\n",
    "# Row 1: FoxP3 ChIP-seq\n",
    "plot_percentage_histogram(axes[0, 0], foxp3_hh_tng_compatible, len(foxp3_hh_tng_distances), 'FoxP3 ChIP: TnG-Compatible')\n",
    "plot_percentage_histogram(axes[0, 1], foxp3_hh_tng_noncompatible, len(foxp3_hh_tng_distances), 'FoxP3 ChIP: Non-Compatible')\n",
    "\n",
    "# Row 2: ATAC OCRs (FoxP3-free regions)\n",
    "plot_percentage_histogram(axes[1, 0], atac_hh_tng_compatible, len(atac_hh_tng_distances), 'FoxP3-Free OCRs: TnG-Compatible')\n",
    "plot_percentage_histogram(axes[1, 1], atac_hh_tng_noncompatible, len(atac_hh_tng_distances), 'FoxP3-Free OCRs: Non-Compatible')\n",
    "\n",
    "# Plot\n",
    "plt.tight_layout(rect=[0, 0, 1, 0.95])\n",
    "plt.show()"
   ]
  },
  {
   "cell_type": "markdown",
   "id": "f9242980-0605-4876-a9d1-bcdc814bd1eb",
   "metadata": {},
   "source": [
    "# TnG Length Distribution Comparison"
   ]
  },
  {
   "cell_type": "code",
   "execution_count": 24,
   "id": "703c93e5-2f0e-4bea-af9b-2080bd0bd3b0",
   "metadata": {},
   "outputs": [],
   "source": [
    "# TnG motifs that overlap FoxP3 Head-to-Head motif pairs and are in the correct alignment\n",
    "foxp3_hh_tng_distances = pd.read_csv('figure5_files/hh_tng_distance_chip.csv')\n",
    "tng_close_to_hh = foxp3_hh_tng_distances[\n",
    "    (foxp3_hh_tng_distances['distance_to_closest_TnG'] == 0) &\n",
    "    (foxp3_hh_tng_distances['tng_alignment'] == 1)\n",
    "].copy()\n",
    "\n",
    "# TnG motifs >1kb away from any H-H motif pair (background set)\n",
    "tng_far_from_hh = pd.read_csv('figure5_files/tng_far_from_hh.csv')\n",
    "\n",
    "# Calculate lengths of both groups\n",
    "tng_close_to_hh['length'] = tng_close_to_hh['closest_TnG_end'] - tng_close_to_hh['closest_TnG_start']\n",
    "tng_far_from_hh['length'] = tng_far_from_hh['TnG_end'] - tng_far_from_hh['TnG_start']"
   ]
  },
  {
   "cell_type": "code",
   "execution_count": 25,
   "id": "4e4e3724-27d9-4c7b-98f0-4c701349be8b",
   "metadata": {},
   "outputs": [
    {
     "data": {
      "image/png": "[encoded data removed]",
      "text/plain": [
       "<Figure size 1400x600 with 2 Axes>"
      ]
     },
     "metadata": {},
     "output_type": "display_data"
    }
   ],
   "source": [
    "# Plot length distributions of TnGs close and far from HH motifs\n",
    "\n",
    "bins = range(0, 101, 5)  # 0 to 100 bp, in 5bp bins\n",
    "fig, axs = plt.subplots(1, 2, figsize=(14, 6), sharey=True)\n",
    "\n",
    "# Histogram: TnGs Overlapping FoxP3 H-H\n",
    "axs[0].hist(\n",
    "    tng_close_to_hh['length'],\n",
    "    bins=bins,\n",
    "    weights=[100 / len(tng_close_to_hh)] * len(tng_close_to_hh),\n",
    "    alpha=0.7,\n",
    "    color='green',\n",
    "    edgecolor='black'\n",
    ")\n",
    "axs[0].set_title('TnGs Overlapping FoxP3 Head-to-Head')\n",
    "axs[0].set_xlabel('TnG Length (bp)')\n",
    "axs[0].set_ylabel('% of TnGs')\n",
    "axs[0].set_xlim(0, 100)\n",
    "\n",
    "# Histogram: TnGs Far from FoxP3 H-H\n",
    "axs[1].hist(\n",
    "    tng_far_from_hh['length'],\n",
    "    bins=bins,\n",
    "    weights=[100 / len(tng_far_from_hh)] * len(tng_far_from_hh),\n",
    "    alpha=0.7,\n",
    "    color='salmon',\n",
    "    edgecolor='black'\n",
    ")\n",
    "axs[1].set_title('TnGs >1kb from FoxP3 Head-to-Head')\n",
    "axs[1].set_xlabel('TnG Length (bp)')\n",
    "axs[1].set_xlim(0, 100)\n",
    "\n",
    "# Plot\n",
    "plt.tight_layout(rect=[0, 0, 1, 0.95])\n",
    "plt.show()"
   ]
  },
  {
   "cell_type": "code",
   "execution_count": null,
   "id": "e5de2295-46fb-4174-a91a-8553e1de15f0",
   "metadata": {},
   "outputs": [],
   "source": []
  }
 ],
 "metadata": {
  "kernelspec": {
   "display_name": "Python 3 (ipykernel)",
   "language": "python",
   "name": "python3"
  },
  "language_info": {
   "codemirror_mode": {
    "name": "ipython",
    "version": 3
   },
   "file_extension": ".py",
   "mimetype": "text/x-python",
   "name": "python",
   "nbconvert_exporter": "python",
   "pygments_lexer": "ipython3",
   "version": "3.9.14"
  }
 },
 "nbformat": 4,
 "nbformat_minor": 5
}
