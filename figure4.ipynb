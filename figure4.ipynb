{
 "cells": [
  {
   "cell_type": "code",
   "execution_count": 1,
   "id": "73ed9c13-1aa7-4568-a457-c0125b7787a0",
   "metadata": {},
   "outputs": [],
   "source": [
    "import re\n",
    "from collections import defaultdict\n",
    "\n",
    "import numpy as np\n",
    "import pandas as pd\n",
    "import matplotlib.pyplot as plt"
   ]
  },
  {
   "cell_type": "markdown",
   "id": "cd4d0b9a-93b1-48b3-b652-fcf95bdbec7f",
   "metadata": {},
   "source": [
    "# Identifying which H-T/T-H motifs are TnG Repeats"
   ]
  },
  {
   "cell_type": "markdown",
   "id": "c8b98a3b-b351-42e9-b132-73e9509db4c1",
   "metadata": {},
   "source": [
    "### Loading ChIP-seq peaks"
   ]
  },
  {
   "cell_type": "code",
   "execution_count": 2,
   "id": "84c51667-1426-43ee-aa7c-a21d7763315c",
   "metadata": {},
   "outputs": [],
   "source": [
    "# Load FoxP3 ChIP-seq peak sequences\n",
    "foxp3_peak_sequences = pd.read_csv('figure3_files/foxp3_chipseq_peak_sequences.csv')"
   ]
  },
  {
   "cell_type": "code",
   "execution_count": 3,
   "id": "b57a9bfe-e31d-4f15-9a47-8e07c59a3e93",
   "metadata": {},
   "outputs": [
    {
     "data": {
      "text/html": [
       "<div>\n",
       "<style scoped>\n",
       "    .dataframe tbody tr th:only-of-type {\n",
       "        vertical-align: middle;\n",
       "    }\n",
       "\n",
       "    .dataframe tbody tr th {\n",
       "        vertical-align: top;\n",
       "    }\n",
       "\n",
       "    .dataframe thead th {\n",
       "        text-align: right;\n",
       "    }\n",
       "</style>\n",
       "<table border=\"1\" class=\"dataframe\">\n",
       "  <thead>\n",
       "    <tr style=\"text-align: right;\">\n",
       "      <th></th>\n",
       "      <th>chr</th>\n",
       "      <th>start</th>\n",
       "      <th>end</th>\n",
       "      <th>sequence</th>\n",
       "    </tr>\n",
       "  </thead>\n",
       "  <tbody>\n",
       "    <tr>\n",
       "      <th>0</th>\n",
       "      <td>1</td>\n",
       "      <td>3241741</td>\n",
       "      <td>3241906</td>\n",
       "      <td>GTATCTGTTGAGGCCTGTTTTGTGACCAATTATATGGTCAATTTTG...</td>\n",
       "    </tr>\n",
       "    <tr>\n",
       "      <th>1</th>\n",
       "      <td>1</td>\n",
       "      <td>3348853</td>\n",
       "      <td>3349060</td>\n",
       "      <td>AAAATTCCAACTCAATTCTTCAATGAATTAGAAGGAGCAATTTGCA...</td>\n",
       "    </tr>\n",
       "    <tr>\n",
       "      <th>2</th>\n",
       "      <td>1</td>\n",
       "      <td>3768258</td>\n",
       "      <td>3768453</td>\n",
       "      <td>TATTTGTGACTATTGAGAAGGGTGTTGTTTCCCTAATTTCTTTCTC...</td>\n",
       "    </tr>\n",
       "    <tr>\n",
       "      <th>3</th>\n",
       "      <td>1</td>\n",
       "      <td>4084204</td>\n",
       "      <td>4084359</td>\n",
       "      <td>TATGTGTCGGGAGGAATTTCTTTTCTGGTCCAGTCTATTTGGAGTT...</td>\n",
       "    </tr>\n",
       "    <tr>\n",
       "      <th>4</th>\n",
       "      <td>1</td>\n",
       "      <td>4486722</td>\n",
       "      <td>4486910</td>\n",
       "      <td>TGGAACAACATTATAAACTAACCAGTACCCCGGAGCTCTTGACTCT...</td>\n",
       "    </tr>\n",
       "  </tbody>\n",
       "</table>\n",
       "</div>"
      ],
      "text/plain": [
       "  chr    start      end                                           sequence\n",
       "0   1  3241741  3241906  GTATCTGTTGAGGCCTGTTTTGTGACCAATTATATGGTCAATTTTG...\n",
       "1   1  3348853  3349060  AAAATTCCAACTCAATTCTTCAATGAATTAGAAGGAGCAATTTGCA...\n",
       "2   1  3768258  3768453  TATTTGTGACTATTGAGAAGGGTGTTGTTTCCCTAATTTCTTTCTC...\n",
       "3   1  4084204  4084359  TATGTGTCGGGAGGAATTTCTTTTCTGGTCCAGTCTATTTGGAGTT...\n",
       "4   1  4486722  4486910  TGGAACAACATTATAAACTAACCAGTACCCCGGAGCTCTTGACTCT..."
      ]
     },
     "execution_count": 3,
     "metadata": {},
     "output_type": "execute_result"
    }
   ],
   "source": [
    "foxp3_peak_sequences.head()"
   ]
  },
  {
   "cell_type": "markdown",
   "id": "a7dd3496-bdce-490d-ac7c-d86be4f05a17",
   "metadata": {},
   "source": [
    "### Example of building reg-ex motifs and searching for them"
   ]
  },
  {
   "cell_type": "code",
   "execution_count": 4,
   "id": "2be753f7-4c97-4160-ad13-94708861a5f7",
   "metadata": {},
   "outputs": [],
   "source": [
    "# Top 10 enriched motif sequences in forward and reverse-complement orientation\n",
    "motifs_forward = ['NNAAACA', 'NAAACAN', 'NNCAACA', 'NCAACAN', 'ATGCGNN', 'GATGCNN', 'ATGCANN', 'AATGCNN', 'NATGCAN', 'ATGCNNC']\n",
    "motifs_reverse = ['TGTTTNN', 'NTGTTTN', 'TGTTGNN', 'NTGTTGN', 'NNCGCAT', 'NNGCATC', 'NNTGCAT', 'NNGCATT', 'NTGCATN', 'GNNGCAT']\n",
    "\n",
    "# Pairwise motif combinations for each orientation:\n",
    "motif_combos_TH = [(f1, f2) for f1 in motifs_forward for f2 in motifs_forward]\n",
    "motif_combos_HT = [(r1, r2) for r1 in motifs_reverse for r2 in motifs_reverse]"
   ]
  },
  {
   "cell_type": "code",
   "execution_count": 5,
   "id": "b9825f1a-07c9-44df-916c-fed7185a66a2",
   "metadata": {},
   "outputs": [],
   "source": [
    "# Convert peak DataFrame into a list of tuples: (chrom, start, end, sequence)\n",
    "chipseq_sequences = list(foxp3_peak_sequences.itertuples(index=False, name=None))\n",
    "\n",
    "def generate_regex_motifs(motif_pairs):\n",
    "    \"\"\"\n",
    "    Convert motif pairs into regex patterns with a fixed 4bp spacer between motifs.\n",
    "    \"\"\"\n",
    "    return [\n",
    "        f\"{f.replace('N', '[ATGC]')}[ATGC]{{4}}{r.replace('N', '[ATGC]')}\"\n",
    "        for f, r in motif_pairs\n",
    "    ]\n",
    "\n",
    "def build_motif_regex_dict():\n",
    "    \"\"\"\n",
    "    Generate a dictionary of regex motif patterns by orientation:\n",
    "    \"\"\"\n",
    "    return {\n",
    "        'TH': {i: p for i, p in enumerate(generate_regex_motifs(motif_combos_TH))},\n",
    "        'HT': {i: p for i, p in enumerate(generate_regex_motifs(motif_combos_HT))}\n",
    "    }\n",
    "\n",
    "# Build all regex motif patterns\n",
    "motif_regex_by_orientation = build_motif_regex_dict()"
   ]
  },
  {
   "cell_type": "code",
   "execution_count": 6,
   "id": "974eff3a-77a6-427e-9f0d-fa755f056cf5",
   "metadata": {},
   "outputs": [
    {
     "name": "stdout",
     "output_type": "stream",
     "text": [
      "Examples from orientation 'TH':\n",
      "  0: [ATGC][ATGC]AAACA[ATGC]{4}[ATGC][ATGC]AAACA\n",
      "  1: [ATGC][ATGC]AAACA[ATGC]{4}[ATGC]AAACA[ATGC]\n",
      "  2: [ATGC][ATGC]AAACA[ATGC]{4}[ATGC][ATGC]CAACA\n",
      "\n",
      "Examples from orientation 'HT':\n",
      "  0: TGTTT[ATGC][ATGC][ATGC]{4}TGTTT[ATGC][ATGC]\n",
      "  1: TGTTT[ATGC][ATGC][ATGC]{4}[ATGC]TGTTT[ATGC]\n",
      "  2: TGTTT[ATGC][ATGC][ATGC]{4}TGTTG[ATGC][ATGC]\n",
      "\n"
     ]
    }
   ],
   "source": [
    "# Display 3 example regex motifs from each orientation\n",
    "for orientation, motifs in motif_regex_by_orientation.items():\n",
    "    print(f\"Examples from orientation '{orientation}':\")\n",
    "    for i in list(motifs.keys())[:3]:\n",
    "        print(f\"  {i}: {motifs[i]}\")\n",
    "    print()"
   ]
  },
  {
   "cell_type": "code",
   "execution_count": 7,
   "id": "0790e744-45e0-4bc0-a99e-f6a3cd37912c",
   "metadata": {},
   "outputs": [
    {
     "data": {
      "text/html": [
       "<div>\n",
       "<style scoped>\n",
       "    .dataframe tbody tr th:only-of-type {\n",
       "        vertical-align: middle;\n",
       "    }\n",
       "\n",
       "    .dataframe tbody tr th {\n",
       "        vertical-align: top;\n",
       "    }\n",
       "\n",
       "    .dataframe thead th {\n",
       "        text-align: right;\n",
       "    }\n",
       "</style>\n",
       "<table border=\"1\" class=\"dataframe\">\n",
       "  <thead>\n",
       "    <tr style=\"text-align: right;\">\n",
       "      <th></th>\n",
       "      <th>chr</th>\n",
       "      <th>start</th>\n",
       "      <th>end</th>\n",
       "      <th>sequence</th>\n",
       "    </tr>\n",
       "  </thead>\n",
       "  <tbody>\n",
       "    <tr>\n",
       "      <th>0</th>\n",
       "      <td>1</td>\n",
       "      <td>7396996</td>\n",
       "      <td>7397015</td>\n",
       "      <td>CAAAACAAAAAGCAAACA</td>\n",
       "    </tr>\n",
       "    <tr>\n",
       "      <th>1</th>\n",
       "      <td>1</td>\n",
       "      <td>7397126</td>\n",
       "      <td>7397145</td>\n",
       "      <td>ACAAACAAAAACCAAACA</td>\n",
       "    </tr>\n",
       "    <tr>\n",
       "      <th>2</th>\n",
       "      <td>1</td>\n",
       "      <td>33883650</td>\n",
       "      <td>33883669</td>\n",
       "      <td>AAAAACAAAAACAAAACA</td>\n",
       "    </tr>\n",
       "    <tr>\n",
       "      <th>3</th>\n",
       "      <td>1</td>\n",
       "      <td>36470693</td>\n",
       "      <td>36470712</td>\n",
       "      <td>AAAAACAAACAAAAAACA</td>\n",
       "    </tr>\n",
       "    <tr>\n",
       "      <th>4</th>\n",
       "      <td>1</td>\n",
       "      <td>36470711</td>\n",
       "      <td>36470730</td>\n",
       "      <td>AAAAACAAAAACAAAACA</td>\n",
       "    </tr>\n",
       "  </tbody>\n",
       "</table>\n",
       "</div>"
      ],
      "text/plain": [
       "  chr     start       end            sequence\n",
       "0   1   7396996   7397015  CAAAACAAAAAGCAAACA\n",
       "1   1   7397126   7397145  ACAAACAAAAACCAAACA\n",
       "2   1  33883650  33883669  AAAAACAAAAACAAAACA\n",
       "3   1  36470693  36470712  AAAAACAAACAAAAAACA\n",
       "4   1  36470711  36470730  AAAAACAAAAACAAAACA"
      ]
     },
     "execution_count": 7,
     "metadata": {},
     "output_type": "execute_result"
    }
   ],
   "source": [
    "def match_example_pattern(sequences, pattern_label, pattern):\n",
    "    matches_list = []\n",
    "    regex = re.compile(pattern)\n",
    "\n",
    "    for chrom, peak_start, peak_end, sequence in sequences:\n",
    "        if sequence == \"Sequence not found\" or pd.isna(sequence):\n",
    "            continue\n",
    "        for match in regex.finditer(sequence):\n",
    "            match_start = peak_start + match.start() - 1 # minus 1 for indexing\n",
    "            match_end = peak_start + match.end()\n",
    "            matched_seq = match.group()\n",
    "            matches_list.append((chrom, match_start, match_end, matched_seq))\n",
    "\n",
    "    df_matches = pd.DataFrame(matches_list, columns=['chr', 'start', 'end', 'sequence'])\n",
    "    return df_matches\n",
    "\n",
    "# Example usage\n",
    "example_label = \"Example_Motif\"\n",
    "example_pattern = \"[ATGC]{2}AAACA[ATGC]{4}[ATGC]{2}AAACA\"\n",
    "df_example_matches = match_example_pattern(chipseq_sequences, example_label, example_pattern)\n",
    "\n",
    "# Print top 5 matches\n",
    "df_example_matches.head()"
   ]
  },
  {
   "cell_type": "markdown",
   "id": "29dd9bf2-1a6f-4751-a182-241cd3531931",
   "metadata": {},
   "source": [
    "### Load all HT and TH in FoxP3 and FoxP1 then search for TnG overlap"
   ]
  },
  {
   "cell_type": "code",
   "execution_count": 8,
   "id": "c67760ac-eab0-4f01-8436-e69fe9db7183",
   "metadata": {},
   "outputs": [],
   "source": [
    "# FoxP3 motif pair loci (from TH and HT orientations)\n",
    "loci_foxp3_th = pd.read_csv(\"figure4_files/foxp3_chipseq_th_loci.csv\")\n",
    "loci_foxp3_ht = pd.read_csv(\"figure4_files/foxp3_chipseq_ht_loci.csv\")\n",
    "\n",
    "# FoxP1 motif pair loci (from TH and HT orientations)\n",
    "loci_foxp1_th = pd.read_csv(\"figure4_files/foxp1_chipseq_th_loci.csv\")\n",
    "loci_foxp1_ht = pd.read_csv(\"figure4_files/foxp1_chipseq_ht_loci.csv\")"
   ]
  },
  {
   "cell_type": "code",
   "execution_count": 9,
   "id": "7c95b782-e3ad-422f-b5a4-babfe39b1ea7",
   "metadata": {},
   "outputs": [],
   "source": [
    "def analyze_group_overlap(valid_groups, motif_pair_df, tng_df):\n",
    "    \"\"\"\n",
    "    Merges grouped motif-pair loci, checks for overlaps with TnG repeat loci, and computes overlap fraction.\n",
    "    \"\"\"\n",
    "    def merge_intervals(df):\n",
    "        merged = []\n",
    "        current_chr = None\n",
    "        current_region = None\n",
    "        for _, row in df.iterrows():\n",
    "            if row['chr'] != current_chr:\n",
    "                if current_region:\n",
    "                    merged.append(current_region)\n",
    "                current_chr = row['chr']\n",
    "                current_region = [row['chr'], row['start'], row['end']]\n",
    "            elif row['start'] > current_region[2]:\n",
    "                merged.append(current_region)\n",
    "                current_region = [row['chr'], row['start'], row['end']]\n",
    "            else:\n",
    "                current_region[2] = max(current_region[2], row['end'])\n",
    "        if current_region:\n",
    "            merged.append(current_region)\n",
    "        return pd.DataFrame(merged, columns=['chr', 'start', 'end'])\n",
    "\n",
    "    def check_partial_overlap(row, chip_df):\n",
    "        return ((chip_df['chr'] == row['chr']) & \n",
    "                (chip_df['TnG_start'] <= row['end']) & \n",
    "                (chip_df['TnG_end'] >= row['start'])).any()\n",
    "\n",
    "    filtered = motif_pair_df[motif_pair_df[\"group\"].isin(valid_groups)].copy()\n",
    "    filtered_sorted = filtered.sort_values(by=['chr', 'start']).reset_index(drop=True)\n",
    "    merged = filtered_sorted.groupby('chr', group_keys=False).apply(merge_intervals).reset_index(drop=True)\n",
    "\n",
    "    merged['overlaps'] = merged.apply(\n",
    "        lambda row: 1 if check_partial_overlap(row, tng_df) else 0, axis=1\n",
    "    )\n",
    "\n",
    "    overlap_fraction = merged['overlaps'].sum() / len(merged)\n",
    "    return merged, overlap_fraction"
   ]
  },
  {
   "cell_type": "code",
   "execution_count": 10,
   "id": "cd6de30e-2159-446e-85ca-18d70fe7d2a9",
   "metadata": {},
   "outputs": [
    {
     "name": "stderr",
     "output_type": "stream",
     "text": [
      "/tmp/ipykernel_28019/3182133243.py:31: DeprecationWarning: DataFrameGroupBy.apply operated on the grouping columns. This behavior is deprecated, and in a future version of pandas the grouping columns will be excluded from the operation. Either pass `include_groups=False` to exclude the groupings or explicitly select the grouping columns after groupby to silence this warning.\n",
      "  merged = filtered_sorted.groupby('chr', group_keys=False).apply(merge_intervals).reset_index(drop=True)\n",
      "/tmp/ipykernel_28019/3182133243.py:31: DeprecationWarning: DataFrameGroupBy.apply operated on the grouping columns. This behavior is deprecated, and in a future version of pandas the grouping columns will be excluded from the operation. Either pass `include_groups=False` to exclude the groupings or explicitly select the grouping columns after groupby to silence this warning.\n",
      "  merged = filtered_sorted.groupby('chr', group_keys=False).apply(merge_intervals).reset_index(drop=True)\n",
      "/tmp/ipykernel_28019/3182133243.py:31: DeprecationWarning: DataFrameGroupBy.apply operated on the grouping columns. This behavior is deprecated, and in a future version of pandas the grouping columns will be excluded from the operation. Either pass `include_groups=False` to exclude the groupings or explicitly select the grouping columns after groupby to silence this warning.\n",
      "  merged = filtered_sorted.groupby('chr', group_keys=False).apply(merge_intervals).reset_index(drop=True)\n",
      "/tmp/ipykernel_28019/3182133243.py:31: DeprecationWarning: DataFrameGroupBy.apply operated on the grouping columns. This behavior is deprecated, and in a future version of pandas the grouping columns will be excluded from the operation. Either pass `include_groups=False` to exclude the groupings or explicitly select the grouping columns after groupby to silence this warning.\n",
      "  merged = filtered_sorted.groupby('chr', group_keys=False).apply(merge_intervals).reset_index(drop=True)\n"
     ]
    },
    {
     "name": "stdout",
     "output_type": "stream",
     "text": [
      "FoxP3 Head-to-Tail overlap with TnG repeats: 80.38%\n",
      "FoxP3 Tail-to-Head overlap with TnG repeats: 78.63%\n",
      "FoxP1 Head-to-Tail overlap with TnG repeats: 84.24%\n",
      "FoxP1 Tail-to-Head overlap with TnG repeats: 84.74%\n"
     ]
    }
   ],
   "source": [
    "# Load genomic locations of TnG repeats from ChIP-seq experiments\n",
    "foxp1_chipseq_tng_loci = pd.read_csv(\"figure4_files/foxp1_chipseq_tng_loci.csv\")\n",
    "foxp3_chipseq_tng_loci = pd.read_csv(\"figure4_files/foxp3_chipseq_tng_loci.csv\")\n",
    "\n",
    "# FoxP3: Head-to-Tail (HT)\n",
    "valid_groups_ht_foxp3 = {1,2,3,4,10,11,12,13,14,21,22,23,24,31,32,34} #Boxes in Fig 3B FoxP3 HT that are shaded\n",
    "df_result, _ = analyze_group_overlap(valid_groups_ht_foxp3, loci_foxp3_ht, foxp3_chipseq_tng_loci)\n",
    "percent_tng_foxp3_ht = len(df_result[df_result['overlaps'] == 1]) / len(df_result) * 100\n",
    "\n",
    "# FoxP3: Tail-to-Head (TH)\n",
    "valid_groups_th_foxp3 = {1,2,3,4,11,12,13,14,21,22,23,31,32,33,34,56,91} #Boxes in Fig 3B FoxP3 TT that are shaded\n",
    "df_result, _ = analyze_group_overlap(valid_groups_th_foxp3, loci_foxp3_th, foxp3_chipseq_tng_loci)\n",
    "percent_tng_foxp3_th = len(df_result[df_result['overlaps'] == 1]) / len(df_result) * 100\n",
    "\n",
    "# FoxP1: Head-to-Tail (HT)\n",
    "valid_groups_ht_foxp1 = {1,2,3,4,11,12,13,14,21,22,23,24,31,32,33,34} #Boxes in Fig 3B FoxP1 HT that are shaded\n",
    "df_result, _ = analyze_group_overlap(valid_groups_ht_foxp1, loci_foxp1_ht, foxp1_chipseq_tng_loci)\n",
    "percent_tng_foxp1_ht = len(df_result[df_result['overlaps'] == 1]) / len(df_result) * 100\n",
    "\n",
    "# FoxP1: Tail-to-Head (TH)\n",
    "valid_groups_th_foxp1 = {1,2,3,4,11,12,13,14,21,22,23,24,31,32,33,34} #Boxes in Fig 3B FoxP1 TT that are shaded\n",
    "df_result, _ = analyze_group_overlap(valid_groups_th_foxp1, loci_foxp1_th, foxp1_chipseq_tng_loci)\n",
    "percent_tng_foxp1_th = len(df_result[df_result['overlaps'] == 1]) / len(df_result) * 100\n",
    "\n",
    "# Print summary (ignore warnings)\n",
    "print(f\"FoxP3 Head-to-Tail overlap with TnG repeats: {percent_tng_foxp3_ht:.2f}%\")\n",
    "print(f\"FoxP3 Tail-to-Head overlap with TnG repeats: {percent_tng_foxp3_th:.2f}%\")\n",
    "print(f\"FoxP1 Head-to-Tail overlap with TnG repeats: {percent_tng_foxp1_ht:.2f}%\")\n",
    "print(f\"FoxP1 Tail-to-Head overlap with TnG repeats: {percent_tng_foxp1_th:.2f}%\")"
   ]
  },
  {
   "cell_type": "markdown",
   "id": "7004a6a4-3516-4f5e-bd1c-dfed9f1d4ab6",
   "metadata": {},
   "source": [
    "### Plot overlap comparison"
   ]
  },
  {
   "cell_type": "code",
   "execution_count": 11,
   "id": "5e172d9b-1c5d-4e80-8799-203948153f97",
   "metadata": {},
   "outputs": [
    {
     "data": {
      "image/png": "[encoded data removed]",
      "text/plain": [
       "<Figure size 600x600 with 1 Axes>"
      ]
     },
     "metadata": {},
     "output_type": "display_data"
    }
   ],
   "source": [
    "# Plot overlap percentages (from previous calculations)\n",
    "overlap = [\n",
    "    percent_tng_foxp3_ht,  # FoxP3 Head-to-Tail\n",
    "    percent_tng_foxp3_th,  # FoxP3 Tail-to-Head\n",
    "    percent_tng_foxp1_ht,  # FoxP1 Head-to-Tail\n",
    "    percent_tng_foxp1_th   # FoxP1 Tail-to-Head\n",
    "]\n",
    "\n",
    "# Complement (non-overlapping regions)\n",
    "non_overlap = [100 - val for val in overlap]\n",
    "\n",
    "# Bar x positions\n",
    "labels = ['H-T', 'T-H', 'H-T', 'T-H']\n",
    "x = np.arange(len(labels))\n",
    "width = 0.6\n",
    "\n",
    "# Bar colors\n",
    "overlap_colors = ['#b84a4a', '#3b9ca6', '#4aa34a', '#a0865b']  # distinct solid fill\n",
    "non_overlap_color = 'white'\n",
    "\n",
    "# Plot\n",
    "fig, ax = plt.subplots(figsize=(6, 6))\n",
    "\n",
    "# Plot overlapping segments\n",
    "bars_overlap = ax.bar(\n",
    "    x, overlap, width,\n",
    "    color=overlap_colors,\n",
    "    edgecolor='white',\n",
    "    label='Overlap with TnG repeats'\n",
    ")\n",
    "\n",
    "# Plot non-overlapping segments\n",
    "bars_non_overlap = ax.bar(\n",
    "    x, non_overlap, width,\n",
    "    bottom=overlap,\n",
    "    color=non_overlap_color,\n",
    "    edgecolor='black',\n",
    "    linewidth=0.8,\n",
    "    label='No Overlap'\n",
    ")\n",
    "\n",
    "# Axis labels and ticks\n",
    "ax.set_ylabel('Percentage', fontsize=12)\n",
    "ax.set_ylim(0, 100)\n",
    "ax.set_xticks(x)\n",
    "ax.set_xticklabels(labels, fontsize=12)\n",
    "\n",
    "# Group labels below the bars\n",
    "ax.text(0.5, -10, 'FoxP3', ha='center', va='center', fontsize=13, transform=ax.transData)\n",
    "ax.text(2.5, -10, 'FoxP1', ha='center', va='center', fontsize=13, transform=ax.transData)\n",
    "\n",
    "# Legend settings\n",
    "ax.legend(\n",
    "    loc='upper center',\n",
    "    bbox_to_anchor=(0.5, 1.12),\n",
    "    frameon=False,\n",
    "    fontsize=10,\n",
    "    ncol=2\n",
    ")\n",
    "\n",
    "# Cleanup aesthetics\n",
    "ax.spines['top'].set_visible(False)\n",
    "ax.spines['right'].set_visible(False)\n",
    "\n",
    "plt.tight_layout()\n",
    "plt.show()"
   ]
  },
  {
   "cell_type": "code",
   "execution_count": null,
   "id": "07508cc8-46f8-4ded-8b52-0f0db738088b",
   "metadata": {},
   "outputs": [],
   "source": []
  }
 ],
 "metadata": {
  "kernelspec": {
   "display_name": "Python 3 (ipykernel)",
   "language": "python",
   "name": "python3"
  },
  "language_info": {
   "codemirror_mode": {
    "name": "ipython",
    "version": 3
   },
   "file_extension": ".py",
   "mimetype": "text/x-python",
   "name": "python",
   "nbconvert_exporter": "python",
   "pygments_lexer": "ipython3",
   "version": "3.9.14"
  }
 },
 "nbformat": 4,
 "nbformat_minor": 5
}
